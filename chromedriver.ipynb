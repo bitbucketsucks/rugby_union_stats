{
 "cells": [
  {
   "cell_type": "code",
   "execution_count": 193,
   "metadata": {},
   "outputs": [],
   "source": [
    "from selenium import webdriver\n",
    "from bs4 import BeautifulSoup\n",
    "import requests\n",
    "#import urllib\n",
    "import urllib.request\n",
    "import pandas as pd\n",
    "\n",
    "\n",
    "driver = webdriver.Chrome()\n",
    "driver.get('https://www.sixnationsrugby.com/statistics/')\n",
    "soup = BeautifulSoup(driver.page_source, \"html.parser\")"
   ]
  },
  {
   "cell_type": "code",
   "execution_count": 194,
   "metadata": {},
   "outputs": [
    {
     "name": "stdout",
     "output_type": "stream",
     "text": [
      "https://www.sixnationsrugby.com/player/?PlayGuid=HK139676&TeamId=129\n"
     ]
    }
   ],
   "source": [
    "\n",
    "#h1 = driver.find_element_by_class_name('player-name')\n",
    "#driver.find_element_by_id('href').send_keys('.')\n",
    "\n",
    "#h1 = driver.find_element_by_name('h1')\n",
    "\n",
    "#h1 = driver.find_element_by_xpath('//h1')\n",
    "#h1 = driver.find_element_by_id('greatID')\n",
    "#//*[@id=\"full-breakdown-player\"]/div[2]/table/tbody/tr[1]/td[1]/a\n",
    "#//*[@id=\"full-breakdown-player\"]/div[2]/table/tbody/tr[2]/td[1]/a\n",
    "#//*[@id=\"full-breakdown-player\"]/div[2]/table/tbody/tr[1]/td[1]/a\n",
    "\n",
    "userid_element = driver.find_elements_by_xpath('//*[@id=\"full-breakdown-player\"]/div[2]/table/tbody/tr[1]/td[1]/a')[0]\n",
    "\n",
    "date = userid_element.get_attribute('href')\n",
    "print(date)\n"
   ]
  },
  {
   "cell_type": "code",
   "execution_count": null,
   "metadata": {},
   "outputs": [],
   "source": []
  },
  {
   "cell_type": "code",
   "execution_count": 195,
   "metadata": {},
   "outputs": [
    {
     "name": "stdout",
     "output_type": "stream",
     "text": [
      "162\n"
     ]
    }
   ],
   "source": [
    "player_names = soup.find('table', 'table sortable table-striped')\n",
    "player_names_2 = player_names.find('tbody')\n",
    "no_of_col = 0\n",
    "#print(soup2)\n",
    "\n",
    "for link in player_names_2.find_all('tr'):\n",
    "    no_of_col = no_of_col + 1\n",
    "\n",
    "print(no_of_col)"
   ]
  },
  {
   "cell_type": "code",
   "execution_count": 196,
   "metadata": {},
   "outputs": [],
   "source": [
    "col=[]\n",
    "k=1\n",
    "for url in range():\n",
    "    my_url = '//*[@id=\"full-breakdown-player\"]/div[2]/table/tbody/tr[%s]/td[1]/a'%k\n",
    "    #print(my_url)\n",
    "    userid_element_2 = driver.find_elements_by_xpath(my_url)[0]\n",
    "    date = userid_element_2.get_attribute('href')\n",
    "    k=k+1\n",
    "    col.append(date)\n",
    "    #print(date)\n",
    "#print(col)    "
   ]
  },
  {
   "cell_type": "code",
   "execution_count": 197,
   "metadata": {},
   "outputs": [
    {
     "name": "stdout",
     "output_type": "stream",
     "text": [
      "Hassane Kolingar\n",
      "Finn Russell\n",
      "         Date     Team Position Tries Conv DG Pen YC RC Pts       Player Name\n",
      "0  14/02/2021  Ireland       17     0    0  0   0         0  Hassane Kolingar\n",
      "0  13/02/2021    Wales       10     0    3  0   1         9      Finn Russell\n",
      "1   6/02/2021  England       10     0    0  0   2         6      Finn Russell\n"
     ]
    }
   ],
   "source": [
    "df = pd.DataFrame()\n",
    "for url in col:\n",
    "    # let's parse our html\n",
    "    driver.get(url)\n",
    "    soup3 = BeautifulSoup(driver.page_source, \"html.parser\")\n",
    "    #print(soup)\n",
    "    info = soup3.find('tr')\n",
    "    info2 = soup3.find_all('td')\n",
    "    info3 = soup3.find('tbody')\n",
    "    #print(info.prettify())\n",
    "\n",
    "\n",
    "\n",
    "    #Create empty list\n",
    "    col2=[]\n",
    "    i=0\n",
    "    j=0\n",
    "    for t in info.find_all('th'):\n",
    "            #print(t)\n",
    "            name=t.text\n",
    "            #print '%d:\"%s\"'%(i,name)\n",
    "            col2.append((name,[]))\n",
    "\n",
    "    for l in info3.find_all('tr'):\n",
    "        k=0\n",
    "        for t in info.find_all('th'):\n",
    "            #print(t)\n",
    "            #print '%d:\"%s\"'%(i,name)\n",
    "            data = info2[i].text\n",
    "            data = data.strip()\n",
    "            data = data.replace('\\n','')\n",
    "            col2[k][1].append(data)    \n",
    "            i=i+1\n",
    "            k=k+1\n",
    "            #print(i)\n",
    "\n",
    "    playername = soup3.find('h1').find('span')\n",
    "    print(playername.text)\n",
    "\n",
    "    col2.append(('Player Name',playername.text))\n",
    "    \n",
    "    Dict={title:column for (title,column) in col2}\n",
    "    df_filt = pd.DataFrame(Dict)\n",
    "    df_filt2 = df_filt[df_filt['Date']!='Total']\n",
    "    df=df.append(df_filt2)\n",
    "print(df)\n",
    "    \n",
    "\n",
    "\n",
    "    "
   ]
  },
  {
   "cell_type": "markdown",
   "metadata": {},
   "source": []
  },
  {
   "cell_type": "code",
   "execution_count": 192,
   "metadata": {},
   "outputs": [
    {
     "data": {
      "text/plain": [
       "<bound method NDFrame.head of           Date      Team Position Tries Conv DG Pen YC RC Pts  ...   DT   TW  \\\n",
       "0   14/02/2021   Ireland       17     0    0  0   0         0  ...  NaN  NaN   \n",
       "0   13/02/2021     Wales       10     0    3  0   1         9  ...  NaN  NaN   \n",
       "1    6/02/2021   England       10     0    0  0   2         6  ...  NaN  NaN   \n",
       "0   13/02/2021  Scotland        4     0    0  0   0         0  ...  NaN  NaN   \n",
       "1    7/02/2021   Ireland        4     0    0  0   0         0  ...  NaN  NaN   \n",
       "..         ...       ...      ...   ...  ... ..  .. .. ..  ..  ...  ...  ...   \n",
       "0   13/02/2021  Scotland        6     0    0  0   0         0  ...  NaN  NaN   \n",
       "0   13/02/2021  Scotland        9     0    0  0   0         0  ...  NaN  NaN   \n",
       "1    7/02/2021   Ireland       21     0    0  0   0         0  ...  NaN  NaN   \n",
       "0   13/02/2021     Wales       18     0    0  0   0         0  ...  NaN  NaN   \n",
       "1    6/02/2021   England       18     0    0  0   0         0  ...  NaN  NaN   \n",
       "\n",
       "     TT   TC   HE   PC  OPC  SPC   LW   LS  \n",
       "0   NaN  NaN  NaN  NaN  NaN  NaN  NaN  NaN  \n",
       "0   NaN  NaN  NaN  NaN  NaN  NaN  NaN  NaN  \n",
       "1   NaN  NaN  NaN  NaN  NaN  NaN  NaN  NaN  \n",
       "0   NaN  NaN  NaN  NaN  NaN  NaN  NaN  NaN  \n",
       "1   NaN  NaN  NaN  NaN  NaN  NaN  NaN  NaN  \n",
       "..  ...  ...  ...  ...  ...  ...  ...  ...  \n",
       "0   NaN  NaN  NaN  NaN  NaN  NaN  NaN  NaN  \n",
       "0   NaN  NaN  NaN  NaN  NaN  NaN  NaN  NaN  \n",
       "1   NaN  NaN  NaN  NaN  NaN  NaN  NaN  NaN  \n",
       "0   NaN  NaN  NaN  NaN  NaN  NaN  NaN  NaN  \n",
       "1   NaN  NaN  NaN  NaN  NaN  NaN  NaN  NaN  \n",
       "\n",
       "[170 rows x 37 columns]>"
      ]
     },
     "execution_count": 192,
     "metadata": {},
     "output_type": "execute_result"
    }
   ],
   "source": [
    "df.head\n",
    "    "
   ]
  },
  {
   "cell_type": "code",
   "execution_count": null,
   "metadata": {},
   "outputs": [],
   "source": []
  }
 ],
 "metadata": {
  "kernelspec": {
   "display_name": "Python 3",
   "language": "python",
   "name": "python3"
  },
  "language_info": {
   "codemirror_mode": {
    "name": "ipython",
    "version": 3
   },
   "file_extension": ".py",
   "mimetype": "text/x-python",
   "name": "python",
   "nbconvert_exporter": "python",
   "pygments_lexer": "ipython3",
   "version": "3.8.5"
  }
 },
 "nbformat": 4,
 "nbformat_minor": 4
}
