{
 "cells": [
  {
   "cell_type": "code",
   "execution_count": 1,
   "metadata": {},
   "outputs": [],
   "source": [
    "from selenium import webdriver\n",
    "from bs4 import BeautifulSoup\n",
    "import requests\n",
    "#import urllib\n",
    "import urllib.request\n",
    "import pandas as pd\n",
    "\n",
    "\n",
    "driver = webdriver.Chrome()\n",
    "driver.get('https://www.sixnationsrugby.com/statistics/')\n",
    "soup = BeautifulSoup(driver.page_source, \"html.parser\")"
   ]
  },
  {
   "cell_type": "code",
   "execution_count": 8,
   "metadata": {},
   "outputs": [
    {
     "name": "stdout",
     "output_type": "stream",
     "text": [
      "https://www.sixnationsrugby.com/player/?PlayGuid=HK139676&TeamId=129\n"
     ]
    }
   ],
   "source": [
    "\n",
    "\n",
    "userid_element = driver.find_elements_by_xpath('//*[@id=\"full-breakdown-player\"]/div[2]/table/tbody/tr[1]/td[1]/a')[0]\n",
    "\n",
    "date = userid_element.get_attribute('href')\n",
    "print(date)\n"
   ]
  },
  {
   "cell_type": "code",
   "execution_count": 9,
   "metadata": {},
   "outputs": [
    {
     "name": "stdout",
     "output_type": "stream",
     "text": [
      "6\n"
     ]
    }
   ],
   "source": [
    "player_names = soup.find('table', 'table sortable table-striped')\n",
    "player_names_2 = player_names.find('tbody')\n",
    "no_of_col = 0\n",
    "#print(soup2)\n",
    "\n",
    "for link in player_names_2.find_all('tr'):\n",
    "    no_of_col = no_of_col + 1\n"
   ]
  },
  {
   "cell_type": "code",
   "execution_count": null,
   "metadata": {},
   "outputs": [],
   "source": []
  },
  {
   "cell_type": "code",
   "execution_count": 10,
   "metadata": {},
   "outputs": [],
   "source": [
    "col=[]\n",
    "k=1\n",
    "for url in range(no_of_col):\n",
    "    my_url = '//*[@id=\"full-breakdown-player\"]/div[2]/table/tbody/tr[%s]/td[1]/a'%k\n",
    "    #print(my_url)\n",
    "    userid_element_2 = driver.find_elements_by_xpath(my_url)[0]\n",
    "    date = userid_element_2.get_attribute('href')\n",
    "    k=k+1\n",
    "    col.append(date)\n",
    "    #print(date)\n",
    "#print(col)    "
   ]
  },
  {
   "cell_type": "code",
   "execution_count": 11,
   "metadata": {},
   "outputs": [
    {
     "name": "stdout",
     "output_type": "stream",
     "text": [
      "Hassane Kolingar\n",
      "Finn Russell\n",
      "Adam Beard\n",
      "Dan Lydiate\n",
      "Chris Harris\n",
      "Callum Braley\n",
      "         Date      Team Position Tries Conv DG Pen YC RC Pts       Player Name\n",
      "0  14/02/2021   Ireland       17     0    0  0   0         0  Hassane Kolingar\n",
      "0  13/02/2021     Wales       10     0    3  0   1         9      Finn Russell\n",
      "1   6/02/2021   England       10     0    0  0   2         6      Finn Russell\n",
      "0  27/02/2021   England        4     0    0  0   0         0        Adam Beard\n",
      "1  13/02/2021  Scotland        4     0    0  0   0         0        Adam Beard\n",
      "2   7/02/2021   Ireland        4     0    0  0   0         0        Adam Beard\n",
      "0   7/02/2021   Ireland        6     0    0  0   0         0       Dan Lydiate\n",
      "0  13/02/2021     Wales       13     0    0  0   0         0      Chris Harris\n",
      "1   6/02/2021   England       13     0    0  0   0         0      Chris Harris\n",
      "0  27/02/2021   Ireland        9     0    0  0   0         0     Callum Braley\n"
     ]
    }
   ],
   "source": [
    "df = pd.DataFrame()\n",
    "for url in col:\n",
    "    # let's parse our html\n",
    "    driver.get(url)\n",
    "    soup3 = BeautifulSoup(driver.page_source, \"html.parser\")\n",
    "    #print(soup)\n",
    "    info = soup3.find('tr')\n",
    "    info2 = soup3.find_all('td')\n",
    "    info3 = soup3.find('tbody')\n",
    "    #print(info.prettify())\n",
    "\n",
    "\n",
    "\n",
    "    #Create empty list\n",
    "    col2=[]\n",
    "    i=0\n",
    "    j=0\n",
    "    for t in info.find_all('th'):\n",
    "            #print(t)\n",
    "            name=t.text\n",
    "            #print '%d:\"%s\"'%(i,name)\n",
    "            col2.append((name,[]))\n",
    "\n",
    "    for l in info3.find_all('tr'):\n",
    "        k=0\n",
    "        for t in info.find_all('th'):\n",
    "            #print(t)\n",
    "            #print '%d:\"%s\"'%(i,name)\n",
    "            data = info2[i].text\n",
    "            data = data.strip()\n",
    "            data = data.replace('\\n','')\n",
    "            col2[k][1].append(data)    \n",
    "            i=i+1\n",
    "            k=k+1\n",
    "            #print(i)\n",
    "\n",
    "    playername = soup3.find('h1').find('span')\n",
    "    print(playername.text)\n",
    "\n",
    "    col2.append(('Player Name',playername.text))\n",
    "    \n",
    "    Dict={title:column for (title,column) in col2}\n",
    "    df_filt = pd.DataFrame(Dict)\n",
    "    df_filt2 = df_filt[df_filt['Date']!='Total']\n",
    "    df=df.append(df_filt2)\n",
    "print(df)\n",
    "    \n",
    "\n",
    "\n",
    "    "
   ]
  },
  {
   "cell_type": "markdown",
   "metadata": {},
   "source": []
  },
  {
   "cell_type": "code",
   "execution_count": 12,
   "metadata": {},
   "outputs": [
    {
     "data": {
      "text/html": [
       "<div>\n",
       "<style scoped>\n",
       "    .dataframe tbody tr th:only-of-type {\n",
       "        vertical-align: middle;\n",
       "    }\n",
       "\n",
       "    .dataframe tbody tr th {\n",
       "        vertical-align: top;\n",
       "    }\n",
       "\n",
       "    .dataframe thead th {\n",
       "        text-align: right;\n",
       "    }\n",
       "</style>\n",
       "<table border=\"1\" class=\"dataframe\">\n",
       "  <thead>\n",
       "    <tr style=\"text-align: right;\">\n",
       "      <th></th>\n",
       "      <th>Date</th>\n",
       "      <th>Team</th>\n",
       "      <th>Position</th>\n",
       "      <th>Tries</th>\n",
       "      <th>Conv</th>\n",
       "      <th>DG</th>\n",
       "      <th>Pen</th>\n",
       "      <th>YC</th>\n",
       "      <th>RC</th>\n",
       "      <th>Pts</th>\n",
       "      <th>Player Name</th>\n",
       "    </tr>\n",
       "  </thead>\n",
       "  <tbody>\n",
       "    <tr>\n",
       "      <th>0</th>\n",
       "      <td>14/02/2021</td>\n",
       "      <td>Ireland</td>\n",
       "      <td>17</td>\n",
       "      <td>0</td>\n",
       "      <td>0</td>\n",
       "      <td>0</td>\n",
       "      <td>0</td>\n",
       "      <td></td>\n",
       "      <td></td>\n",
       "      <td>0</td>\n",
       "      <td>Hassane Kolingar</td>\n",
       "    </tr>\n",
       "    <tr>\n",
       "      <th>0</th>\n",
       "      <td>13/02/2021</td>\n",
       "      <td>Wales</td>\n",
       "      <td>10</td>\n",
       "      <td>0</td>\n",
       "      <td>3</td>\n",
       "      <td>0</td>\n",
       "      <td>1</td>\n",
       "      <td></td>\n",
       "      <td></td>\n",
       "      <td>9</td>\n",
       "      <td>Finn Russell</td>\n",
       "    </tr>\n",
       "    <tr>\n",
       "      <th>1</th>\n",
       "      <td>6/02/2021</td>\n",
       "      <td>England</td>\n",
       "      <td>10</td>\n",
       "      <td>0</td>\n",
       "      <td>0</td>\n",
       "      <td>0</td>\n",
       "      <td>2</td>\n",
       "      <td></td>\n",
       "      <td></td>\n",
       "      <td>6</td>\n",
       "      <td>Finn Russell</td>\n",
       "    </tr>\n",
       "    <tr>\n",
       "      <th>0</th>\n",
       "      <td>27/02/2021</td>\n",
       "      <td>England</td>\n",
       "      <td>4</td>\n",
       "      <td>0</td>\n",
       "      <td>0</td>\n",
       "      <td>0</td>\n",
       "      <td>0</td>\n",
       "      <td></td>\n",
       "      <td></td>\n",
       "      <td>0</td>\n",
       "      <td>Adam Beard</td>\n",
       "    </tr>\n",
       "    <tr>\n",
       "      <th>1</th>\n",
       "      <td>13/02/2021</td>\n",
       "      <td>Scotland</td>\n",
       "      <td>4</td>\n",
       "      <td>0</td>\n",
       "      <td>0</td>\n",
       "      <td>0</td>\n",
       "      <td>0</td>\n",
       "      <td></td>\n",
       "      <td></td>\n",
       "      <td>0</td>\n",
       "      <td>Adam Beard</td>\n",
       "    </tr>\n",
       "  </tbody>\n",
       "</table>\n",
       "</div>"
      ],
      "text/plain": [
       "         Date      Team Position Tries Conv DG Pen YC RC Pts       Player Name\n",
       "0  14/02/2021   Ireland       17     0    0  0   0         0  Hassane Kolingar\n",
       "0  13/02/2021     Wales       10     0    3  0   1         9      Finn Russell\n",
       "1   6/02/2021   England       10     0    0  0   2         6      Finn Russell\n",
       "0  27/02/2021   England        4     0    0  0   0         0        Adam Beard\n",
       "1  13/02/2021  Scotland        4     0    0  0   0         0        Adam Beard"
      ]
     },
     "execution_count": 12,
     "metadata": {},
     "output_type": "execute_result"
    }
   ],
   "source": [
    "df.head()"
   ]
  },
  {
   "cell_type": "code",
   "execution_count": null,
   "metadata": {},
   "outputs": [],
   "source": []
  }
 ],
 "metadata": {
  "kernelspec": {
   "display_name": "Python 3",
   "language": "python",
   "name": "python3"
  },
  "language_info": {
   "codemirror_mode": {
    "name": "ipython",
    "version": 3
   },
   "file_extension": ".py",
   "mimetype": "text/x-python",
   "name": "python",
   "nbconvert_exporter": "python",
   "pygments_lexer": "ipython3",
   "version": "3.8.5"
  }
 },
 "nbformat": 4,
 "nbformat_minor": 4
}
